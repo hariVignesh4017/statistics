{
 "cells": [
  {
   "cell_type": "code",
   "execution_count": null,
   "metadata": {},
   "outputs": [],
   "source": [
    "                                STATISTICS BASICS"
   ]
  },
  {
   "cell_type": "markdown",
   "metadata": {},
   "source": [
    "# 1.  Explain the different types of data (qualitative and quantitative) and provide examples of each. Discuss nominal, ordinal, interval, and ratio scales\n",
    "\n",
    "Data can be broadly categorized into qualitative (also called categorical) and quantitative (also called numerical) types. Each type of data is suited to different kinds of analysis and has distinct characteristics.\n",
    "\n",
    "1. Qualitative Data (Categorical Data):\n",
    "This type of data represents categories or labels that describe characteristics or qualities. Qualitative data cannot be measured numerically but can be used to classify or categorize things. It is further divided into two types:\n",
    "\n",
    "Nominal Data: This is the simplest form of data, where categories are distinct and have no specific order or ranking. Each category is just a label. Examples: Gender (Male, Female) Blood type (A, B, AB, O) Car brands (Toyota, Ford, Honda)\n",
    "\n",
    "Ordinal Data: This type of data also involves categories, but there is a meaningful order or ranking among them. The differences between the ranks may not be consistent or measurable. Examples: Educational level (High school, Bachelor's, Master's, PhD) Satisfaction ratings (Very unsatisfied, Unsatisfied, Neutral, Satisfied, Very satisfied) Class rankings (1st place, 2nd place, 3rd place)\n",
    "\n",
    "2. Quantitative Data (Numerical Data):\n",
    "Quantitative data is numerical and can be measured and expressed in terms of numbers. It can be used to calculate means, variances, and perform various types of statistical analysis. Quantitative data is divided into two main types:\n",
    "\n",
    "Interval Data: This data has meaningful distances between values, but it does not have a true zero point. In other words, you can add and subtract values, but you cannot meaningfully multiply or divide them.\n",
    "\n",
    "Examples: Temperature (Celsius, Fahrenheit) – The zero point is arbitrary and does not represent the absence of temperature. Dates on a calendar – There is no true \"zero\" date, and the difference between dates is meaningful, but ratios like \"twice as much\" don’t make sense.\n",
    "\n",
    "Ratio Data: This data has all the properties of interval data, but it also has a true zero point, meaning that zero indicates the absence of the quantity being measured. You can perform all mathematical operations with ratio data, including meaningful multiplication and division.\n",
    "\n",
    "Examples: Weight (kg, lbs) – A weight of 0 kg means there is no weight. Height (cm, meters) – A height of 0 meters means no height. Age (years) – Age starts at 0 and can increase meaningfully. Income (dollars) – An income of 0 means no income.\n",
    "\n",
    "ques 2 : What are the measures of central tendency, and when should you use each? Discuss the mean, median, and mode with examples and situations where each is appropriate.\n",
    "\n",
    "Measures of central tendency are statistical tools used to summarize a set of data by identifying the central value. The three most common measures of central tendency are the mean, median, and mode. Each measure has its own strengths and is used in different situations depending on the nature of the data and the distribution."
   ]
  },
  {
   "cell_type": "markdown",
   "metadata": {},
   "source": [
    "# 2. What are the measures of central tendency, and when should you use each? Discuss the mean, median, and mode with examples and situations where each is appropriate\n",
    "\n",
    "Measures of central tendency are statistical tools used to summarize a set of data by identifying the central value. The three most common measures of central tendency are the mean, median, and mode. Each measure has its own strengths and is used in different situations depending on the nature of the data and the distribution.\n",
    "\n",
    "# Mean (Arithmetic Average)\n",
    "The mean is the sum of all the values in a data set divided by the number of values. It is the most commonly used measure of central tendency and is appropriate for data that is approximately symmetrically distributed without extreme outliers.\n",
    "\n",
    "Formula for Mean:\n",
    "Mean = ∑Number of Values/total number of values\n",
    "\n",
    "**When to Use:**\n",
    "Use the mean when the data is normally distributed (symmetrical) and has no significant outliers.\n",
    "The mean is best for interval or ratio data.\n",
    "It is useful for performing statistical analyses and calculating further metrics, like the standard deviation.\n",
    "Example Situation:\n",
    "A teacher wants to calculate the average score of a class on a test. If all the students' scores are relatively similar, the mean will give a good representation of the class's performance.\n",
    "# 2. Median (Middle Value)\n",
    "The median is the middle value in a data set when the values are arranged in ascending or descending order. If there is an even number of data points, the median is the average of the two middle values. The median is less sensitive to extreme values (outliers) than the mean and is preferred when the data contains outliers or is skewed.\n",
    "\n",
    "How to Find the Median:\n",
    "Sort the data in ascending or descending order.\n",
    "If the number of data points is odd, the median is the middle value.\n",
    "If the number of data points is even, the median is the average of the two middle values.\n",
    "\n",
    "**When to Use:**\n",
    "Use the median when the data is skewed or has outliers, as it is not affected by extreme values.\n",
    "The median is also useful for ordinal data or when you are dealing with data that is not normally distributed.\n",
    "Example Situation:\n",
    "In a neighborhood, if you are calculating the median income to understand the typical income, the median would be better than the mean because a few extremely high incomes could skew the mean upward, giving a misleading picture of the typical income.\n",
    "\n",
    "#3. Mode (Most Frequent Value)\n",
    "The mode is the value that appears most frequently in a data set. A data set can have:\n",
    "\n",
    "**When to Use:**\n",
    "Use the mode when you are dealing with nominal data (categorical data) to identify the most common category.\n",
    "The mode is also useful when you need to know the most frequent item in a data set, even if the data is not normally distributed.\n",
    "The mode can be helpful when analyzing discrete data, especially in cases where certain values repeat.\n",
    "Example Situation:\n",
    "A survey asks people to choose their favorite color from a list. The most common answer is the mode (e.g., Blue if it appears most often).\n",
    "In market research, the mode can help identify the most frequently purchased product or the most preferred feature in a survey.\n",
    "\n",
    "\n"
   ]
  },
  {
   "cell_type": "markdown",
   "metadata": {},
   "source": [
    "#  3. Explain the concept of dispersion. How do variance and standard deviation measure the spread of data?\n",
    "\n",
    "Dispersion refers to how spread out or scattered the values in a dataset are. It provides a measure of the variability or diversity of data points, indicating whether the values are close to the mean or widely spread out. Understanding dispersion is important because it helps to give more context to a dataset, especially when comparing different datasets or understanding the consistency of data.\n",
    "\n",
    "Two common ways to measure dispersion are variance and standard deviation. Both of these metrics indicate how much individual data points deviate from the mean of the dataset, but they differ in how they represent that spread.\n",
    "\n",
    "**1. Variance:**\n",
    "Variance is the average of the squared differences between each data point and the mean of the dataset.\n",
    "\n",
    "Variance provides a measure of how far the data points are from the mean, but the squared units make it harder to interpret in the context of the original data (for example, if the data is in meters, the variance is in square meters).\n",
    "\n",
    "**2. Standard Deviation:**\n",
    "Standard deviation is simply the square root of the variance. It brings the unit back to the same as the data, making it easier to interpret in real-world terms.\n",
    "\n",
    "Standard deviation gives us a more interpretable value because it reflects the average distance that data points deviate from the mean in the same unit as the original data.\n"
   ]
  },
  {
   "cell_type": "markdown",
   "metadata": {},
   "source": [
    "#  4. What is a box plot, and what can it tell you about the distribution of data?\n",
    "\n",
    "A box plot is a graphical representation of the distribution of a dataset that displays its central tendency, spread, and potential outliers. It provides a visual summary of the dataset’s key statistical features, making it easier to understand the distribution at a glance.\n",
    "\n",
    "What a Box Plot Can Tell You:\n",
    "\n",
    "**Central Tendency:**\n",
    "\n",
    "The median provides a quick view of the central value of the dataset, showing where the middle of the data lies.\n",
    "\n",
    "**Spread and Variability:**\n",
    "\n",
    "The interquartile range (IQR) shows how spread out the middle 50% of the data is. A wider IQR suggests greater spread, while a narrower IQR indicates that most data points are clustered around the median.\n",
    "\n",
    "**Skewness of the Data:**\n",
    "\n",
    "If the median is closer to the lower quartile (Q1) or the upper quartile (Q3), it can indicate whether the data is skewed.\n",
    "A median closer to Q1 suggests positively skewed (right-skewed) data.\n",
    "A median closer to Q3 suggests negatively skewed (left-skewed) data.\n",
    "\n",
    "**Presence of Outliers:**\n",
    "\n",
    "Points that lie beyond the \"whiskers\" are outliers, which could indicate anomalies or exceptional values in the dataset. Identifying outliers can be useful for further analysis or deciding if certain values should be excluded.\n",
    "\n",
    "**Range:**\n",
    "\n",
    "The length of the whiskers shows the range between the minimum and maximum values, excluding outliers. This can give a sense of the overall spread of the data."
   ]
  },
  {
   "cell_type": "markdown",
   "metadata": {},
   "source": [
    "# 5. Discuss the role of random sampling in making inferences about populations.\n",
    "\n",
    "Random sampling plays a critical role in making inferences about populations. In statistical research, it is used to select a representative subset of a larger population in order to make generalizations about the entire population. The primary goal is to ensure that the sample chosen is unbiased and reflects the diversity of the population, allowing researchers to make valid inferences about the population’s characteristics without needing to collect data from every individual.\n",
    "\n",
    "the role of random sampling in making inferences about populations:\n",
    "\n",
    "**Reducing Bias:**\n",
    "\n",
    "The major advantage of random sampling is its ability to reduce bias in the selection process. Bias occurs when the sample systematically differs from the population in ways that affect the study's outcomes. By giving every member of the population an equal chance of selection, random sampling helps prevent biases caused by human judgment, convenience, or other systematic factors.\n",
    "\n",
    "\n",
    "**Representativeness of the Population:**\n",
    "\n",
    "Random sampling ensures that each individual or element in the population has an equal chance of being selected. This helps to create a sample that accurately represents the diversity of the population. Without random sampling, there’s a risk that certain groups or characteristics could be over- or under-represented, which could lead to misleading conclusions.\n",
    "\n",
    "**Estimating Population Parameters:**\n",
    "\n",
    "Once a random sample is selected, it can be used to estimate various population parameters, such as the mean, proportion, variance, etc. These estimates allow researchers to make inferences about the entire population.\n"
   ]
  },
  {
   "cell_type": "markdown",
   "metadata": {},
   "source": [
    "# 6. Explain the concept of skewness and its types. How does skewness affect the interpretation of data?\n",
    "\n",
    "Skewness is a measure of the asymmetry or lack of symmetry in the distribution of data. It tells us about the direction in which the data is \"tilted\" relative to the mean. A perfectly symmetrical distribution, like the normal distribution, has a skewness of zero. Skewness helps us understand whether the data has a longer tail on one side (left or right) of the mean and how that might affect the interpretation of the data.\n",
    "\n",
    "# Types of Skewness:\n",
    "\n",
    "Skewness can be categorized into three types, based on the direction of the asymmetry:\n",
    "\n",
    "**Positive Skew (Right Skew):**\n",
    "\n",
    "In a positively skewed distribution, the right tail (larger values) is longer or fatter than the left tail (smaller values). This means that most of the data points are clustered on the left side of the mean, and there are a few larger values pulling the mean to the right.\n",
    "The mean is greater than the median in positively skewed data.\n",
    "\n",
    "Mean > Median > Mode\n",
    "The tail on the right side of the distribution is longer.\n",
    "\n",
    "**Negative Skew (Left Skew):**\n",
    "\n",
    "In a negatively skewed distribution, the left tail (smaller values) is longer or fatter than the right tail (larger values). This means that most data points are clustered on the right side of the mean, with a few smaller values pulling the mean to the left.\n",
    "The mean is less than the median in negatively skewed data.\n",
    "\n",
    "Mean < Median < Mode\n",
    "The tail on the left side of the distribution is longer.\n",
    "\n",
    "**Symmetric Distribution (Zero Skew):**\n",
    "\n",
    "A distribution is symmetric when its shape is the same on both sides of the mean. In such a distribution, the mean and the median are equal, and the skewness is zero.\n",
    "\n",
    "Mean = Median = Mode\n",
    "No skew, the distribution has no long tails."
   ]
  },
  {
   "cell_type": "markdown",
   "metadata": {},
   "source": [
    "# 7. What is the interquartile range (IQR), and how is it used to detect outliers?\n",
    "\n",
    "\n",
    "The Interquartile Range (IQR) is a measure of statistical dispersion, which describes the range within which the middle 50% of data points in a dataset lie. It is the difference between the third quartile (Q3) and the first quartile (Q1). In simpler terms, the IQR gives us an idea of how spread out the central half of the data is.\n",
    "\n",
    "**detection of outlier:**\n",
    "\n",
    "Box plots use the IQR to show the distribution of data. The \"whiskers\" of the box plot typically extend to the lower and upper bounds (1.5 * IQR), and any data points beyond these whiskers are considered outliers. This makes the IQR a useful tool in exploratory data analysis for identifying and handling outliers visually."
   ]
  },
  {
   "cell_type": "markdown",
   "metadata": {},
   "source": [
    "#  8. Discuss the conditions under which the binomial distribution is used.\n",
    "\n",
    "The binomial distribution is a discrete probability distribution that models the number of successes in a fixed number of independent Bernoulli trials. These trials have two possible outcomes: success or failure. The binomial distribution is commonly used in situations where you're interested in counting the number of successful outcomes in a fixed number of attempts or trials.\n",
    "\n",
    "Binomial Distribution Conditions:\n",
    "\n",
    "1. A fixed number of trials (n).\n",
    "\n",
    "2. Each trial has two possible outcomes: success or failure.\n",
    "\n",
    "3. The probability of success (p) is constant across trials.\n",
    "\n",
    "4. The trials are independent of each other.\n",
    "\n",
    "5. The random variable represents the number of successes in the trials."
   ]
  },
  {
   "cell_type": "markdown",
   "metadata": {},
   "source": [
    "# 9. Explain the properties of the normal distribution and the empirical rule(68-95-99.7 rule).\n",
    "\n",
    "The normal distribution is a continuous probability distribution that is symmetric, bell-shaped, and defined by its mean (μ) and standard deviation (σ). It is widely used in statistics because many real-world phenomena tend to follow a normal distribution.\n",
    "\n",
    "# properties of normal distribution:\n",
    "\n",
    "Symmetry:\n",
    "\n",
    "The normal distribution is symmetric about its mean. This means the left and right halves of the distribution are mirror images of each other. Therefore, the mean, median, and mode of the distribution are all the same and located at the center of the distribution.\n",
    "\n",
    "Bell-Shaped Curve:\n",
    "\n",
    "The shape of the distribution is bell-shaped, meaning it starts low on both sides, increases to a peak at the mean, and then decreases symmetrically.\n",
    "\n",
    "Defined by Mean and Standard Deviation:\n",
    "\n",
    "The mean (μ) determines the center of the distribution, while the standard deviation (σ) controls the spread or width of the distribution.\n",
    "A larger standard deviation results in a wider and flatter curve.\n",
    "A smaller standard deviation results in a narrower and taller curve.\n",
    "\n",
    "Asymptotic Behavior:\n",
    "\n",
    "The tails of the normal distribution curve extend infinitely in both directions and never touch the horizontal axis. As you move farther from the mean, the probability of finding values in the tails decreases but never reaches zero.\n",
    "\n",
    "Total Area Under the Curve Equals 1:\n",
    "\n",
    "The area under the normal distribution curve represents the total probability, and since the total probability must equal 1, the total area under the curve is 1. This means that the probability of any outcome falling within the entire distribution is 100%.\n",
    "\n",
    "The Empirical Rule (68-95-99.7 Rule):\n",
    "\n",
    "The Empirical Rule (also called the 68-95-99.7 rule) is a guideline that applies to data that is normally distributed. It states that:\n",
    "\n",
    "68% of the data lies within one standard deviation (±1σ) from the mean (μ).\n",
    "95% of the data lies within two standard deviations (±2σ) from the mean (μ).\n",
    "99.7% of the data lies within three standard deviations (±3σ) from the mean (μ)."
   ]
  },
  {
   "cell_type": "code",
   "execution_count": 9,
   "metadata": {},
   "outputs": [
    {
     "data": {
      "text/latex": [
       "$\\displaystyle P(X = 4) = \\frac{e^{-3} \\cdot 3^4}{4!}$"
      ],
      "text/plain": [
       "<IPython.core.display.Math object>"
      ]
     },
     "metadata": {},
     "output_type": "display_data"
    },
    {
     "data": {
      "text/latex": [
       "$\\displaystyle P(X = 4) = \\frac{e^{-3} \\cdot 81}{24}$"
      ],
      "text/plain": [
       "<IPython.core.display.Math object>"
      ]
     },
     "metadata": {},
     "output_type": "display_data"
    },
    {
     "data": {
      "text/latex": [
       "$\\displaystyle P(X = 4) \\approx \\frac{0.0498 \\times 81}{24}$"
      ],
      "text/plain": [
       "<IPython.core.display.Math object>"
      ]
     },
     "metadata": {},
     "output_type": "display_data"
    },
    {
     "data": {
      "text/latex": [
       "$\\displaystyle \\approx \\frac{4.03}{24} \\approx 0.168$"
      ],
      "text/plain": [
       "<IPython.core.display.Math object>"
      ]
     },
     "metadata": {},
     "output_type": "display_data"
    }
   ],
   "source": [
    "# 10. Provide a real-life example of a Poisson process and calculate the probability for a specific event.\n",
    "#Real-Life Example of a Poisson Process\n",
    "#A Poisson process models events that occur randomly over time or space, with a known average rate.\n",
    "\n",
    "#Example:\n",
    "#Suppose a call center receives customer calls at an average rate of 6 calls per hour. We assume that calls arrive independently and randomly, making this a Poisson process with rate \n",
    "𝜆=6\n",
    "λ=6 #calls per hour.\n",
    "#by using Poisson Probability Formula\n",
    "\n",
    "from IPython.display import display, Math\n",
    "\n",
    "\n",
    "display(Math(r'P(X = 4) = \\frac{e^{-3} \\cdot 3^4}{4!}'))\n",
    "display(Math(r'P(X = 4) = \\frac{e^{-3} \\cdot 81}{24}'))\n",
    "display(Math(r'P(X = 4) \\approx \\frac{0.0498 \\times 81}{24}'))\n",
    "display(Math(r'\\approx \\frac{4.03}{24} \\approx 0.168'))\n",
    "\n",
    "#Final Answer\n",
    "#The probability of receiving exactly 4 calls in 30 minutes is 0.168 (or 16.8%).\n",
    "\n",
    "\n"
   ]
  },
  {
   "cell_type": "markdown",
   "metadata": {},
   "source": [
    "# 11. Explain what a random variable is and differentiate between discrete and continuous random variables.What is a Random Variable?\n",
    "A random variable is a numerical outcome of a random process or experiment. It assigns a numerical value to each possible outcome of an experiment.\n",
    "\n",
    "For example, if you roll a six-sided die, the outcome is a number between 1 and 6. Here, the random variable (X) could represent the result of the die roll.\n",
    "\n",
    "Types of Random Variables\n",
    "Random variables are classified into two types:\n",
    "\n",
    "Discrete Random Variables\n",
    "Continuous Random Variables\n",
    "1. Discrete Random Variable\n",
    "A discrete random variable takes a countable number of distinct values.\n",
    "\n",
    "It represents situations where outcomes are separated (not continuous).\n",
    "Typically associated with counting (e.g., number of customers in a store).\n",
    "Can be finite or infinite (but countable).\n",
    "Examples of Discrete Random Variables\n",
    "The number of heads when flipping a coin 5 times.\n",
    "The number of students present in a class.\n",
    "The number of emails received per day.\n",
    "The number of goals scored in a soccer match.\n",
    "A probability mass function (PMF) is used to define the probability distribution of a discrete random variable.\n",
    "\n",
    "2. Continuous Random Variable\n",
    "A continuous random variable takes an infinite number of possible values within a given range.\n",
    "\n",
    "It represents measurements rather than counts.\n",
    "The values are not countable but lie in an interval.\n",
    "Typically associated with measuring (e.g., height, weight, time).\n",
    "Examples of Continuous Random Variables\n",
    "The height of students in a school.\n",
    "The time required to complete a task.\n",
    "The temperature in a city.\n",
    "The weight of a newborn baby.\n",
    "A probability density function (PDF) is used to define the probability distribution of a continuous random variable."
   ]
  },
  {
   "cell_type": "markdown",
   "metadata": {},
   "source": [
    "#  12. Provide an example dataset, calculate both covariance and correlation, and interpret the results.\n",
    "\n",
    "import numpy as np\n",
    "import pandas as pd\n",
    "\n",
    "# Example dataset: Hours Studied (X) vs. Test Scores (Y)\n",
    "data = {\n",
    "    \"Hours_Studied\": [2, 4, 6, 8, 10],\n",
    "    \"Test_Scores\": [50, 60, 65, 80, 90]\n",
    "}\n",
    "\n",
    "# Convert to DataFrame\n",
    "df = pd.DataFrame(data)\n",
    "\n",
    "# Calculate covariance\n",
    "covariance = np.cov(df[\"Hours_Studied\"], df[\"Test_Scores\"], ddof=0)[0, 1]\n",
    "\n",
    "# Calculate correlation\n",
    "correlation = np.corrcoef(df[\"Hours_Studied\"], df[\"Test_Scores\"])[0, 1]\n",
    "\n",
    "# Display Results\n",
    "print(f\"Covariance: {covariance:.2f}\")\n",
    "print(f\"Correlation: {correlation:.2f}\")\n",
    "\n",
    "# Interpretation\n",
    "print(\"\\nInterpretation:\")\n",
    "print(\"1. Covariance is positive, meaning that as study hours increase, test scores tend to increase.\")\n",
    "print(\"2. The correlation coefficient is close to +1, indicating a strong positive relationship between study hours and test scores.\")"
   ]
  },
  {
   "cell_type": "code",
   "execution_count": 10,
   "metadata": {},
   "outputs": [
    {
     "name": "stdout",
     "output_type": "stream",
     "text": [
      "Covariance: 40.00\n",
      "Correlation: 0.99\n",
      "\n",
      "Interpretation:\n",
      "1. Covariance is positive, meaning that as study hours increase, test scores tend to increase.\n",
      "2. The correlation coefficient is close to +1, indicating a strong positive relationship between study hours and test scores.\n"
     ]
    }
   ],
   "source": [
    "import numpy as np\n",
    "import pandas as pd\n",
    "\n",
    "# Example dataset: Hours Studied (X) vs. Test Scores (Y)\n",
    "data = {\n",
    "    \"Hours_Studied\": [2, 4, 6, 8, 10],\n",
    "    \"Test_Scores\": [50, 60, 65, 80, 90]\n",
    "}\n",
    "\n",
    "# Convert to DataFrame\n",
    "df = pd.DataFrame(data)\n",
    "\n",
    "# Calculate covariance\n",
    "covariance = np.cov(df[\"Hours_Studied\"], df[\"Test_Scores\"], ddof=0)[0, 1]\n",
    "\n",
    "# Calculate correlation\n",
    "correlation = np.corrcoef(df[\"Hours_Studied\"], df[\"Test_Scores\"])[0, 1]\n",
    "\n",
    "# Display Results\n",
    "print(f\"Covariance: {covariance:.2f}\")\n",
    "print(f\"Correlation: {correlation:.2f}\")\n",
    "\n",
    "# Interpretation\n",
    "print(\"\\nInterpretation:\")\n",
    "print(\"1. Covariance is positive, meaning that as study hours increase, test scores tend to increase.\")\n",
    "print(\"2. The correlation coefficient is close to +1, indicating a strong positive relationship between study hours and test scores.\")"
   ]
  }
 ],
 "metadata": {
  "kernelspec": {
   "display_name": "Python 3",
   "language": "python",
   "name": "python3"
  },
  "language_info": {
   "codemirror_mode": {
    "name": "ipython",
    "version": 3
   },
   "file_extension": ".py",
   "mimetype": "text/x-python",
   "name": "python",
   "nbconvert_exporter": "python",
   "pygments_lexer": "ipython3",
   "version": "3.13.1"
  }
 },
 "nbformat": 4,
 "nbformat_minor": 2
}
